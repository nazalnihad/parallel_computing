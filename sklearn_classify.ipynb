{
  "nbformat": 4,
  "nbformat_minor": 0,
  "metadata": {
    "colab": {
      "provenance": [],
      "authorship_tag": "ABX9TyNA8POl4wNfpggdcUW8UpmQ"
    },
    "kernelspec": {
      "name": "python3",
      "display_name": "Python 3"
    },
    "language_info": {
      "name": "python"
    }
  },
  "cells": [
    {
      "cell_type": "code",
      "source": [
        "from sklearn.datasets import load_iris\n",
        "from sklearn.model_selection import train_test_split, cross_val_score\n",
        "from sklearn.ensemble import BaggingClassifier, AdaBoostClassifier, StackingClassifier\n",
        "from sklearn.metrics import accuracy_score, precision_score, recall_score, f1_score\n",
        "from sklearn.linear_model import LogisticRegression\n",
        "from sklearn.svm import SVC\n",
        "from sklearn.tree import DecisionTreeClassifier\n",
        "from sklearn.ensemble import RandomForestClassifier, GradientBoostingClassifier\n",
        "from sklearn.naive_bayes import GaussianNB\n",
        "from sklearn.neighbors import KNeighborsClassifier\n",
        "from sklearn.discriminant_analysis import LinearDiscriminantAnalysis"
      ],
      "metadata": {
        "id": "slmYJiq8VTnG"
      },
      "execution_count": 4,
      "outputs": []
    },
    {
      "cell_type": "code",
      "source": [
        "iris = load_iris()\n",
        "X, y = iris.data, iris.target\n",
        "X_train, X_test, y_train, y_test = train_test_split(X, y, test_size=0.3, random_state=42)"
      ],
      "metadata": {
        "id": "xl4O3ZpQVVP3"
      },
      "execution_count": 7,
      "outputs": []
    },
    {
      "cell_type": "code",
      "source": [
        "classifiers = {\n",
        "    \"LogisticRegression\": LogisticRegression(max_iter=200),\n",
        "    \"SVC\": SVC(probability=True),\n",
        "    \"DecisionTree\": DecisionTreeClassifier(),\n",
        "    \"RandomForest\": RandomForestClassifier(),\n",
        "    \"GradientBoosting\": GradientBoostingClassifier(),\n",
        "    \"GaussianNB\": GaussianNB(),\n",
        "    \"KNeighbors\": KNeighborsClassifier(),\n",
        "    \"LDA\": LinearDiscriminantAnalysis()\n",
        "}\n",
        "\n",
        "# Evaluate classifiers\n",
        "scores = {}\n",
        "for name, clf in classifiers.items():\n",
        "    clf.fit(X_train, y_train)\n",
        "    y_pred = clf.predict(X_test)\n",
        "    scores[name] = {\n",
        "        \"Accuracy\": accuracy_score(y_test, y_pred),\n",
        "        \"Precision\": precision_score(y_test, y_pred, average='macro'),\n",
        "        \"Recall\": recall_score(y_test, y_pred, average='macro'),\n",
        "        \"F1-Score\": f1_score(y_test, y_pred, average='macro')\n",
        "    }\n",
        "\n",
        "sorted_classifiers = sorted(scores.items(), key=lambda x: x[1][\"Accuracy\"], reverse=True)\n",
        "top_classifiers = [name for name, _ in sorted_classifiers[:4]]\n",
        "print(\"Top 4 classifiers:\", top_classifiers)\n",
        "\n",
        "ensemble_results = {}\n",
        "\n",
        "# Bagging\n",
        "for clf_name in top_classifiers:\n",
        "    clf = classifiers[clf_name]\n",
        "    bagging = BaggingClassifier(estimator=clf, n_estimators=10, random_state=42)\n",
        "    bagging.fit(X_train, y_train)\n",
        "    y_pred = bagging.predict(X_test)\n",
        "    ensemble_results[f\"Bagging ({clf_name})\"] = accuracy_score(y_test, y_pred)\n",
        "\n",
        "# Boosting\n",
        "for clf_name in top_classifiers:\n",
        "    clf = classifiers[clf_name]\n",
        "    boosting = AdaBoostClassifier(estimator=clf, n_estimators=10, random_state=42)\n",
        "    boosting.fit(X_train, y_train)\n",
        "    y_pred = boosting.predict(X_test)\n",
        "    ensemble_results[f\"Boosting ({clf_name})\"] = accuracy_score(y_test, y_pred)\n",
        "\n",
        "# Stacking\n",
        "stacking_estimators = [(name, classifiers[name]) for name in top_classifiers]\n",
        "stacking = StackingClassifier(estimators=stacking_estimators, final_estimator=LogisticRegression())\n",
        "stacking.fit(X_train, y_train)\n",
        "y_pred = stacking.predict(X_test)\n",
        "ensemble_results[\"Stacking\"] = accuracy_score(y_test, y_pred)\n",
        "\n",
        "print(\"Ensemble Results:\")\n",
        "for method, score in ensemble_results.items():\n",
        "    print(f\"{method}: {score:.4f}\")"
      ],
      "metadata": {
        "colab": {
          "base_uri": "https://localhost:8080/"
        },
        "id": "UoYHrZchVSgZ",
        "outputId": "0dfc7b31-0919-4c9c-880c-48bddb46e6f9"
      },
      "execution_count": 8,
      "outputs": [
        {
          "output_type": "stream",
          "name": "stdout",
          "text": [
            "Top 4 classifiers: ['LogisticRegression', 'SVC', 'DecisionTree', 'RandomForest']\n",
            "Ensemble Results:\n",
            "Bagging (LogisticRegression): 1.0000\n",
            "Bagging (SVC): 1.0000\n",
            "Bagging (DecisionTree): 1.0000\n",
            "Bagging (RandomForest): 1.0000\n",
            "Boosting (LogisticRegression): 0.8222\n",
            "Boosting (SVC): 0.5556\n",
            "Boosting (DecisionTree): 1.0000\n",
            "Boosting (RandomForest): 1.0000\n",
            "Stacking: 1.0000\n"
          ]
        }
      ]
    },
    {
      "cell_type": "code",
      "source": [],
      "metadata": {
        "id": "99su5dTKVc50"
      },
      "execution_count": null,
      "outputs": []
    }
  ]
}