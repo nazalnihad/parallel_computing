{
  "nbformat": 4,
  "nbformat_minor": 0,
  "metadata": {
    "colab": {
      "provenance": [],
      "authorship_tag": "ABX9TyMBFPeiJS1OFGFtZ6PQIeci"
    },
    "kernelspec": {
      "name": "python3",
      "display_name": "Python 3"
    },
    "language_info": {
      "name": "python"
    }
  },
  "cells": [
    {
      "cell_type": "code",
      "source": [
        "import kagglehub\n",
        "\n",
        "# Download latest version\n",
        "path = kagglehub.dataset_download(\"shubhammehta21/movie-lens-small-latest-dataset\")\n",
        "\n",
        "print(\"Path to dataset files:\", path)"
      ],
      "metadata": {
        "colab": {
          "base_uri": "https://localhost:8080/"
        },
        "id": "lJyyXUBKdB_Y",
        "outputId": "ca9eef78-fb8a-4d32-9175-dc3b0b3e489c"
      },
      "execution_count": 1,
      "outputs": [
        {
          "output_type": "stream",
          "name": "stdout",
          "text": [
            "Downloading from https://www.kaggle.com/api/v1/datasets/download/shubhammehta21/movie-lens-small-latest-dataset?dataset_version_number=1...\n"
          ]
        },
        {
          "output_type": "stream",
          "name": "stderr",
          "text": [
            "100%|██████████| 971k/971k [00:00<00:00, 14.2MB/s]"
          ]
        },
        {
          "output_type": "stream",
          "name": "stdout",
          "text": [
            "Extracting files...\n"
          ]
        },
        {
          "output_type": "stream",
          "name": "stderr",
          "text": [
            "\n"
          ]
        },
        {
          "output_type": "stream",
          "name": "stdout",
          "text": [
            "Path to dataset files: /root/.cache/kagglehub/datasets/shubhammehta21/movie-lens-small-latest-dataset/versions/1\n"
          ]
        }
      ]
    },
    {
      "cell_type": "code",
      "source": [
        "!ls /root/.cache/kagglehub/datasets/shubhammehta21/movie-lens-small-latest-dataset/versions/1"
      ],
      "metadata": {
        "colab": {
          "base_uri": "https://localhost:8080/"
        },
        "id": "bWzXUprsdD75",
        "outputId": "b6435e00-0caa-4444-b3ee-530643b12e11"
      },
      "execution_count": 2,
      "outputs": [
        {
          "output_type": "stream",
          "name": "stdout",
          "text": [
            "links.csv  movies.csv  ratings.csv  README.txt\ttags.csv\n"
          ]
        }
      ]
    },
    {
      "cell_type": "code",
      "execution_count": 3,
      "metadata": {
        "colab": {
          "base_uri": "https://localhost:8080/"
        },
        "id": "1-LZoV7Tc6aX",
        "outputId": "72609cd3-9d04-400c-ed23-c59f4c4c5f6b"
      },
      "outputs": [
        {
          "output_type": "stream",
          "name": "stdout",
          "text": [
            "   userId  movieId  rating  timestamp\n",
            "0       1        1     4.0  964982703\n",
            "1       1        3     4.0  964981247\n",
            "2       1        6     4.0  964982224\n",
            "3       1       47     5.0  964983815\n",
            "4       1       50     5.0  964982931\n",
            "<class 'pandas.core.frame.DataFrame'>\n",
            "RangeIndex: 100836 entries, 0 to 100835\n",
            "Data columns (total 4 columns):\n",
            " #   Column     Non-Null Count   Dtype  \n",
            "---  ------     --------------   -----  \n",
            " 0   userId     100836 non-null  int64  \n",
            " 1   movieId    100836 non-null  int64  \n",
            " 2   rating     100836 non-null  float64\n",
            " 3   timestamp  100836 non-null  int64  \n",
            "dtypes: float64(1), int64(3)\n",
            "memory usage: 3.1 MB\n",
            "None\n",
            "Users: 610, Movies: 9724\n",
            "count    100836.000000\n",
            "mean          3.501557\n",
            "std           1.042529\n",
            "min           0.500000\n",
            "25%           3.000000\n",
            "50%           3.500000\n",
            "75%           4.000000\n",
            "max           5.000000\n",
            "Name: rating, dtype: float64\n"
          ]
        }
      ],
      "source": [
        "import pandas as pd\n",
        "\n",
        "# Load MovieLens data\n",
        "ratings = pd.read_csv('/root/.cache/kagglehub/datasets/shubhammehta21/movie-lens-small-latest-dataset/versions/1/ratings.csv')  # userId, movieId, rating, timestamp\n",
        "movies = pd.read_csv('/root/.cache/kagglehub/datasets/shubhammehta21/movie-lens-small-latest-dataset/versions/1/movies.csv')   # movieId, title, genres\n",
        "\n",
        "# Explore\n",
        "print(ratings.head())\n",
        "print(ratings.info())\n",
        "print(f\"Users: {ratings['userId'].nunique()}, Movies: {ratings['movieId'].nunique()}\")\n",
        "print(ratings['rating'].describe())"
      ]
    },
    {
      "cell_type": "code",
      "source": [
        "from sklearn.metrics.pairwise import cosine_similarity\n",
        "import numpy as np\n",
        "\n",
        "user_movie_matrix = ratings.pivot(index='userId', columns='movieId', values='rating').fillna(0)\n",
        "\n",
        "user_similarity = cosine_similarity(user_movie_matrix)\n",
        "\n",
        "user_similarity_df = pd.DataFrame(user_similarity, index=user_movie_matrix.index, columns=user_movie_matrix.index)\n"
      ],
      "metadata": {
        "id": "fY2wvjQAdPk3"
      },
      "execution_count": 6,
      "outputs": []
    },
    {
      "cell_type": "code",
      "source": [
        "def recommend_user_based(user_id, user_movie_matrix, user_similarity_df, top_n=5):\n",
        "    #  similar users\n",
        "    similar_users = user_similarity_df[user_id].sort_values(ascending=False)[1:]  # Exclude self\n",
        "    similar_users_ids = similar_users.index[:10]  #  10 similar users\n",
        "\n",
        "    # Get movies rated by similar users but not by target user\n",
        "    user_ratings = user_movie_matrix.loc[user_id]\n",
        "    unrated_movies = user_ratings[user_ratings == 0].index\n",
        "\n",
        "    #  ratings as weighted average of similar users' ratings\n",
        "    predictions = {}\n",
        "    for movie in unrated_movies:\n",
        "        sim_scores = user_similarity_df.loc[similar_users_ids, user_id]\n",
        "        movie_ratings = user_movie_matrix.loc[similar_users_ids, movie]\n",
        "        weighted_sum = np.dot(sim_scores, movie_ratings)\n",
        "        sim_sum = sim_scores.sum()\n",
        "        if sim_sum > 0:\n",
        "            predictions[movie] = weighted_sum / sim_sum\n",
        "\n",
        "    # Sort and return top N\n",
        "    return pd.Series(predictions).sort_values(ascending=False).head(top_n)\n"
      ],
      "metadata": {
        "id": "Ray5Hw3pddjr"
      },
      "execution_count": 5,
      "outputs": []
    },
    {
      "cell_type": "code",
      "source": [
        "print(recommend_user_based(1, user_movie_matrix, user_similarity_df))\n"
      ],
      "metadata": {
        "colab": {
          "base_uri": "https://localhost:8080/"
        },
        "id": "bIf3XOG5doto",
        "outputId": "c1f76c28-a344-4461-8195-0b0cacf1f883"
      },
      "execution_count": 7,
      "outputs": [
        {
          "output_type": "stream",
          "name": "stdout",
          "text": [
            "589     4.195979\n",
            "1200    4.119903\n",
            "2762    3.971041\n",
            "1610    3.957980\n",
            "858     3.885992\n",
            "dtype: float64\n"
          ]
        }
      ]
    },
    {
      "cell_type": "code",
      "source": [
        "from sklearn.model_selection import train_test_split\n",
        "\n",
        "train, test = train_test_split(ratings, test_size=0.2, random_state=42)\n",
        "train_matrix = train.pivot(index='userId', columns='movieId', values='rating').fillna(0)\n",
        "test_matrix = test.pivot(index='userId', columns='movieId', values='rating').fillna(0)\n",
        "\n",
        "#  evaluation (precision@k)\n",
        "def precision_at_k(user_id, k=5):\n",
        "    preds = recommend_user_based(user_id, train_matrix, user_similarity_df, top_n=k)\n",
        "    actual = test_matrix.loc[user_id]\n",
        "    actual_positive = actual[actual > 2].index\n",
        "    pred_positive = preds.index\n",
        "    hits = len(set(pred_positive) & set(actual_positive))\n",
        "    return hits / k\n",
        "\n",
        "print(f\"Precision@5 for User 1: {precision_at_k(1)}\")"
      ],
      "metadata": {
        "colab": {
          "base_uri": "https://localhost:8080/"
        },
        "id": "zBe8DO7LdtXS",
        "outputId": "42ebdbd2-f0e2-46df-bcec-d1351b092a63"
      },
      "execution_count": 9,
      "outputs": [
        {
          "output_type": "stream",
          "name": "stdout",
          "text": [
            "Precision@5 for User 1: 0.2\n"
          ]
        }
      ]
    },
    {
      "cell_type": "code",
      "source": [
        "# item similarity\n",
        "item_similarity = cosine_similarity(user_movie_matrix.T)  # Transpose for items\n",
        "item_similarity_df = pd.DataFrame(item_similarity, index=user_movie_matrix.columns, columns=user_movie_matrix.columns)\n",
        "\n",
        "def recommend_item_based(user_id, user_movie_matrix, item_similarity_df, top_n=5):\n",
        "    user_ratings = user_movie_matrix.loc[user_id]\n",
        "    rated_movies = user_ratings[user_ratings > 0].index\n",
        "\n",
        "    predictions = {}\n",
        "    for movie in user_movie_matrix.columns:\n",
        "        if movie not in rated_movies:\n",
        "            sim_scores = item_similarity_df.loc[rated_movies, movie]\n",
        "            weighted_sum = np.dot(sim_scores, user_ratings[rated_movies])\n",
        "            sim_sum = sim_scores.sum()\n",
        "            if sim_sum > 0:\n",
        "                predictions[movie] = weighted_sum / sim_sum\n",
        "\n",
        "    return pd.Series(predictions).sort_values(ascending=False).head(top_n)\n",
        "\n",
        "print(recommend_item_based(1, user_movie_matrix, item_similarity_df))"
      ],
      "metadata": {
        "colab": {
          "base_uri": "https://localhost:8080/"
        },
        "id": "rV6mtzqWd6Zh",
        "outputId": "196d0f9f-0d9c-4208-b2e1-a1837766dc92"
      },
      "execution_count": 10,
      "outputs": [
        {
          "output_type": "stream",
          "name": "stdout",
          "text": [
            "63239     5.0\n",
            "193587    5.0\n",
            "193573    5.0\n",
            "193571    5.0\n",
            "193567    5.0\n",
            "dtype: float64\n"
          ]
        }
      ]
    },
    {
      "cell_type": "code",
      "source": [
        "def recommend_hybrid(user_id, user_movie_matrix, user_similarity_df, item_similarity_df, top_n=5):\n",
        "    user_preds = recommend_user_based(user_id, user_movie_matrix, user_similarity_df, top_n=10)\n",
        "    item_preds = recommend_item_based(user_id, user_movie_matrix, item_similarity_df, top_n=10)\n",
        "\n",
        "    combined = pd.concat([user_preds, item_preds]).groupby(level=0).mean()\n",
        "    return combined.sort_values(ascending=False).head(top_n)\n",
        "\n",
        "print(recommend_hybrid(1, user_movie_matrix, user_similarity_df, item_similarity_df))"
      ],
      "metadata": {
        "colab": {
          "base_uri": "https://localhost:8080/"
        },
        "id": "zpdR5-OieLrO",
        "outputId": "6a33e814-e091-496f-dffb-6a19be2cc82c"
      },
      "execution_count": 11,
      "outputs": [
        {
          "output_type": "stream",
          "name": "stdout",
          "text": [
            "193579    5.0\n",
            "193581    5.0\n",
            "191005    5.0\n",
            "63239     5.0\n",
            "193583    5.0\n",
            "dtype: float64\n"
          ]
        }
      ]
    },
    {
      "cell_type": "code",
      "source": [
        "import pandas as pd\n",
        "\n",
        "# Load MovieLens data\n",
        "ratings = pd.read_csv('/root/.cache/kagglehub/datasets/shubhammehta21/movie-lens-small-latest-dataset/versions/1/ratings.csv')  # userId, movieId, rating, timestamp\n",
        "movies = pd.read_csv('/root/.cache/kagglehub/datasets/shubhammehta21/movie-lens-small-latest-dataset/versions/1/movies.csv')   # movieId, title, genres\n",
        "\n",
        "# Explore\n",
        "print(ratings.head())\n",
        "print(ratings.info())\n",
        "print(f\"Users: {ratings['userId'].nunique()}, Movies: {ratings['movieId'].nunique()}\")\n",
        "print(ratings['rating'].describe())\n",
        "\n",
        "from sklearn.metrics.pairwise import cosine_similarity\n",
        "import numpy as np\n",
        "\n",
        "user_movie_matrix = ratings.pivot(index='userId', columns='movieId', values='rating').fillna(0)\n",
        "\n",
        "user_similarity = cosine_similarity(user_movie_matrix)\n",
        "\n",
        "user_similarity_df = pd.DataFrame(user_similarity, index=user_movie_matrix.index, columns=user_movie_matrix.index)\n",
        "\n",
        "def recommend_user_based(user_id, user_movie_matrix, user_similarity_df, top_n=5):\n",
        "    #  similar users\n",
        "    similar_users = user_similarity_df[user_id].sort_values(ascending=False)[1:]  # Exclude self\n",
        "    similar_users_ids = similar_users.index[:10]  #  10 similar users\n",
        "\n",
        "    # Get movies rated by similar users but not by target user\n",
        "    user_ratings = user_movie_matrix.loc[user_id]\n",
        "    unrated_movies = user_ratings[user_ratings == 0].index\n",
        "\n",
        "    #  ratings as weighted average of similar users' ratings\n",
        "    predictions = {}\n",
        "    for movie in unrated_movies:\n",
        "        sim_scores = user_similarity_df.loc[similar_users_ids, user_id]\n",
        "        movie_ratings = user_movie_matrix.loc[similar_users_ids, movie]\n",
        "        weighted_sum = np.dot(sim_scores, movie_ratings)\n",
        "        sim_sum = sim_scores.sum()\n",
        "        if sim_sum > 0:\n",
        "            predictions[movie] = weighted_sum / sim_sum\n",
        "\n",
        "    # Sort and return top N\n",
        "    return pd.Series(predictions).sort_values(ascending=False).head(top_n)\n",
        "\n",
        "print(recommend_user_based(1, user_movie_matrix, user_similarity_df))\n",
        "\n",
        "from sklearn.model_selection import train_test_split\n",
        "\n",
        "train, test = train_test_split(ratings, test_size=0.2, random_state=42)\n",
        "train_matrix = train.pivot(index='userId', columns='movieId', values='rating').fillna(0)\n",
        "test_matrix = test.pivot(index='userId', columns='movieId', values='rating').fillna(0)\n",
        "\n",
        "#  evaluation (precision@k)\n",
        "def precision_at_k(user_id, k=5):\n",
        "    preds = recommend_user_based(user_id, train_matrix, user_similarity_df, top_n=k)\n",
        "    actual = test_matrix.loc[user_id]\n",
        "    actual_positive = actual[actual > 2].index\n",
        "    pred_positive = preds.index\n",
        "    hits = len(set(pred_positive) & set(actual_positive))\n",
        "    return hits / k\n",
        "\n",
        "print(f\"Precision@5 for User 1: {precision_at_k(1)}\")\n",
        "\n",
        "# item similarity\n",
        "item_similarity = cosine_similarity(user_movie_matrix.T)  # Transpose for items\n",
        "item_similarity_df = pd.DataFrame(item_similarity, index=user_movie_matrix.columns, columns=user_movie_matrix.columns)\n",
        "\n",
        "def recommend_item_based(user_id, user_movie_matrix, item_similarity_df, top_n=5):\n",
        "    user_ratings = user_movie_matrix.loc[user_id]\n",
        "    rated_movies = user_ratings[user_ratings > 0].index\n",
        "\n",
        "    predictions = {}\n",
        "    for movie in user_movie_matrix.columns:\n",
        "        if movie not in rated_movies:\n",
        "            sim_scores = item_similarity_df.loc[rated_movies, movie]\n",
        "            weighted_sum = np.dot(sim_scores, user_ratings[rated_movies])\n",
        "            sim_sum = sim_scores.sum()\n",
        "            if sim_sum > 0:\n",
        "                predictions[movie] = weighted_sum / sim_sum\n",
        "\n",
        "    return pd.Series(predictions).sort_values(ascending=False).head(top_n)\n",
        "\n",
        "print(recommend_item_based(1, user_movie_matrix, item_similarity_df))\n",
        "\n",
        "def recommend_hybrid(user_id, user_movie_matrix, user_similarity_df, item_similarity_df, top_n=5):\n",
        "    user_preds = recommend_user_based(user_id, user_movie_matrix, user_similarity_df, top_n=10)\n",
        "    item_preds = recommend_item_based(user_id, user_movie_matrix, item_similarity_df, top_n=10)\n",
        "\n",
        "    combined = pd.concat([user_preds, item_preds]).groupby(level=0).mean()\n",
        "    return combined.sort_values(ascending=False).head(top_n)\n",
        "\n",
        "print(recommend_hybrid(1, user_movie_matrix, user_similarity_df, item_similarity_df))"
      ],
      "metadata": {
        "id": "ET2GeUt9eYZQ"
      },
      "execution_count": null,
      "outputs": []
    },
    {
      "cell_type": "code",
      "source": [
        "import pandas as pd\n",
        "import numpy as np\n",
        "from sklearn.metrics.pairwise import cosine_similarity\n",
        "from sklearn.model_selection import train_test_split\n",
        "\n",
        "ratings = pd.read_csv('/root/.cache/kagglehub/datasets/shubhammehta21/movie-lens-small-latest-dataset/versions/1/ratings.csv')\n",
        "movies = pd.read_csv('/root/.cache/kagglehub/datasets/shubhammehta21/movie-lens-small-latest-dataset/versions/1/movies.csv')\n",
        "\n",
        "\n",
        "print(ratings.head())\n",
        "print(ratings.info())\n",
        "print(f\"Users: {ratings['userId'].nunique()}, Movies: {ratings['movieId'].nunique()}\")\n",
        "print(ratings['rating'].describe())\n",
        "\n",
        "# User-movie matrix\n",
        "user_movie_matrix = ratings.pivot(index='userId', columns='movieId', values='rating').fillna(0)\n",
        "\n",
        "# User similarity\n",
        "user_similarity = cosine_similarity(user_movie_matrix)\n",
        "user_similarity_df = pd.DataFrame(user_similarity, index=user_movie_matrix.index, columns=user_movie_matrix.index)\n",
        "\n",
        "# Item similarity\n",
        "item_similarity = cosine_similarity(user_movie_matrix.T)\n",
        "item_similarity_df = pd.DataFrame(item_similarity, index=user_movie_matrix.columns, columns=user_movie_matrix.columns)\n",
        "\n",
        "# Train-test split\n",
        "train, test = train_test_split(ratings, test_size=0.2, random_state=42)\n",
        "train_matrix = train.pivot(index='userId', columns='movieId', values='rating').fillna(0)\n",
        "test_matrix = test.pivot(index='userId', columns='movieId', values='rating').fillna(0)"
      ],
      "metadata": {
        "colab": {
          "base_uri": "https://localhost:8080/"
        },
        "id": "Twl73epHfSgX",
        "outputId": "203769ad-a08b-40ec-83fd-5a1792dc5ac2"
      },
      "execution_count": 12,
      "outputs": [
        {
          "output_type": "stream",
          "name": "stdout",
          "text": [
            "   userId  movieId  rating  timestamp\n",
            "0       1        1     4.0  964982703\n",
            "1       1        3     4.0  964981247\n",
            "2       1        6     4.0  964982224\n",
            "3       1       47     5.0  964983815\n",
            "4       1       50     5.0  964982931\n",
            "<class 'pandas.core.frame.DataFrame'>\n",
            "RangeIndex: 100836 entries, 0 to 100835\n",
            "Data columns (total 4 columns):\n",
            " #   Column     Non-Null Count   Dtype  \n",
            "---  ------     --------------   -----  \n",
            " 0   userId     100836 non-null  int64  \n",
            " 1   movieId    100836 non-null  int64  \n",
            " 2   rating     100836 non-null  float64\n",
            " 3   timestamp  100836 non-null  int64  \n",
            "dtypes: float64(1), int64(3)\n",
            "memory usage: 3.1 MB\n",
            "None\n",
            "Users: 610, Movies: 9724\n",
            "count    100836.000000\n",
            "mean          3.501557\n",
            "std           1.042529\n",
            "min           0.500000\n",
            "25%           3.000000\n",
            "50%           3.500000\n",
            "75%           4.000000\n",
            "max           5.000000\n",
            "Name: rating, dtype: float64\n"
          ]
        }
      ]
    },
    {
      "cell_type": "code",
      "source": [
        "def recommend_user_based(user_id, user_movie_matrix, user_similarity_df, movies_df, top_n=5):\n",
        "    similar_users = user_similarity_df[user_id].sort_values(ascending=False)[1:11]\n",
        "    similar_users_ids = similar_users.index\n",
        "\n",
        "    print(f\"\\nTop similar users to User {user_id}:\")\n",
        "    for sim_user in similar_users_ids:\n",
        "        top_movies = user_movie_matrix.loc[sim_user].sort_values(ascending=False).head(3)\n",
        "        top_movie_titles = movies_df[movies_df['movieId'].isin(top_movies.index)]['title'].tolist()\n",
        "        print(f\"User {sim_user} (Similarity: {similar_users[sim_user]:.3f}): {top_movie_titles}\")\n",
        "\n",
        "    user_ratings = user_movie_matrix.loc[user_id]\n",
        "    unrated_movies = user_ratings[user_ratings == 0].index\n",
        "\n",
        "    predictions = {}\n",
        "    for movie in unrated_movies:\n",
        "        sim_scores = user_similarity_df.loc[similar_users_ids, user_id]\n",
        "        movie_ratings = user_movie_matrix.loc[similar_users_ids, movie]\n",
        "        weighted_sum = np.dot(sim_scores, movie_ratings)\n",
        "        sim_sum = sim_scores.sum()\n",
        "        if sim_sum > 0:\n",
        "            predictions[movie] = weighted_sum / sim_sum\n",
        "\n",
        "    top_preds = pd.Series(predictions).sort_values(ascending=False).head(top_n)\n",
        "    recommended_movies = movies_df[movies_df['movieId'].isin(top_preds.index)][['movieId', 'title']]\n",
        "    recommended_movies['score'] = top_preds.values\n",
        "    return recommended_movies\n",
        "\n",
        "print(\"\\nUser-Based Recommendations for User 1:\")\n",
        "print(recommend_user_based(1, train_matrix, user_similarity_df, movies))"
      ],
      "metadata": {
        "colab": {
          "base_uri": "https://localhost:8080/"
        },
        "id": "0peSBTNmfS4K",
        "outputId": "322cceb1-53fc-4598-af62-f1970e0c6ec2"
      },
      "execution_count": 13,
      "outputs": [
        {
          "output_type": "stream",
          "name": "stdout",
          "text": [
            "\n",
            "User-Based Recommendations for User 1:\n",
            "\n",
            "Top similar users to User 1:\n",
            "User 266 (Similarity: 0.357): ['Trainspotting (1996)', \"Monty Python's Life of Brian (1979)\", 'Clockwork Orange, A (1971)']\n",
            "User 313 (Similarity: 0.352): ['Escape from New York (1981)', 'Cell, The (2000)', \"Charlie's Angels (2000)\"]\n",
            "User 368 (Similarity: 0.345): [\"Schindler's List (1993)\", 'Jaws (1975)', 'Saving Private Ryan (1998)']\n",
            "User 57 (Similarity: 0.345): ['Blade Runner (1982)', 'Godfather, The (1972)', 'Sting, The (1973)']\n",
            "User 91 (Similarity: 0.335): ['Desperado (1995)', 'Batman (1989)', 'Godfather, The (1972)']\n",
            "User 469 (Similarity: 0.331): ['Once Upon a Time in America (1984)', 'Raging Bull (1980)', 'Exorcist, The (1973)']\n",
            "User 39 (Similarity: 0.330): ['Contact (1997)', 'Hard Core Logo (1996)', 'American Beauty (1999)']\n",
            "User 288 (Similarity: 0.330): ['Star Wars: Episode IV - A New Hope (1977)', '2001: A Space Odyssey (1968)', 'Little Big Man (1970)']\n",
            "User 452 (Similarity: 0.328): ['Abyss, The (1989)', 'Rush Hour (1998)', 'Ronin (1998)']\n",
            "User 45 (Similarity: 0.328): [\"There's Something About Mary (1998)\", 'Crouching Tiger, Hidden Dragon (Wo hu cang long) (2000)', 'Bourne Supremacy, The (2004)']\n",
            "      movieId                                              title     score\n",
            "507       589                  Terminator 2: Judgment Day (1991)  4.605472\n",
            "659       858                              Godfather, The (1972)  3.581387\n",
            "900      1198  Raiders of the Lost Ark (Indiana Jones and the...  3.391522\n",
            "922      1221                     Godfather: Part II, The (1974)  3.375445\n",
            "1243     1653                                     Gattaca (1997)  3.124799\n"
          ]
        }
      ]
    },
    {
      "cell_type": "code",
      "source": [
        "def recommend_item_based(user_id, user_movie_matrix, item_similarity_df, movies_df, top_n=5):\n",
        "    user_ratings = user_movie_matrix.loc[user_id]\n",
        "    rated_movies = user_ratings[user_ratings > 0].index\n",
        "\n",
        "    print(f\"\\nUser {user_id}'s Top Rated Movies:\")\n",
        "    rated_titles = movies_df[movies_df['movieId'].isin(rated_movies)]['title'].tolist()\n",
        "    print(rated_titles[:5])\n",
        "\n",
        "    predictions = {}\n",
        "    for movie in user_movie_matrix.columns:\n",
        "        if movie not in rated_movies:\n",
        "            sim_scores = item_similarity_df.loc[rated_movies, movie]\n",
        "            weighted_sum = np.dot(sim_scores, user_ratings[rated_movies])\n",
        "            sim_sum = sim_scores.sum()\n",
        "            if sim_sum > 0:\n",
        "                predictions[movie] = weighted_sum / sim_sum\n",
        "\n",
        "    top_preds = pd.Series(predictions).sort_values(ascending=False).head(top_n)\n",
        "    recommended_movies = movies_df[movies_df['movieId'].isin(top_preds.index)][['movieId', 'title']]\n",
        "    recommended_movies['score'] = top_preds.values\n",
        "    return recommended_movies\n",
        "\n",
        "print(\"\\nItem-Based Recommendations for User 1:\")\n",
        "print(recommend_item_based(1, train_matrix, item_similarity_df, movies))"
      ],
      "metadata": {
        "colab": {
          "base_uri": "https://localhost:8080/"
        },
        "id": "8vLYyXrffWUg",
        "outputId": "08967868-2b86-4643-80c6-2331b6b958d2"
      },
      "execution_count": 14,
      "outputs": [
        {
          "output_type": "stream",
          "name": "stdout",
          "text": [
            "\n",
            "Item-Based Recommendations for User 1:\n",
            "\n",
            "User 1's Top Rated Movies:\n",
            "['Toy Story (1995)', 'Grumpier Old Men (1995)', 'Heat (1995)', 'Seven (a.k.a. Se7en) (1995)', 'Usual Suspects, The (1995)']\n",
            "      movieId                                    title  score\n",
            "9173   148978          Blue Exorcist: The Movie (2012)    5.0\n",
            "9732   193565                Gintama: The Movie (2010)    5.0\n",
            "9734   193571                      Silver Spoon (2014)    5.0\n",
            "9735   193573  Love Live! The School Idol Movie (2015)    5.0\n",
            "9740   193587      Bungo Stray Dogs: Dead Apple (2018)    5.0\n"
          ]
        }
      ]
    },
    {
      "cell_type": "code",
      "source": [
        "def recommend_hybrid(user_id, user_movie_matrix, user_similarity_df, item_similarity_df, movies_df, top_n=5):\n",
        "    user_preds = recommend_user_based(user_id, user_movie_matrix, user_similarity_df, movies_df, top_n=10)\n",
        "    item_preds = recommend_item_based(user_id, user_movie_matrix, item_similarity_df, movies_df, top_n=10)\n",
        "\n",
        "    # Combine predictions\n",
        "    combined = pd.concat([user_preds.set_index('movieId')['score'],\n",
        "                          item_preds.set_index('movieId')['score']], axis=1).mean(axis=1)\n",
        "    top_combined = combined.sort_values(ascending=False).head(top_n)\n",
        "\n",
        "    recommended_movies = movies_df[movies_df['movieId'].isin(top_combined.index)][['movieId', 'title']]\n",
        "    recommended_movies['score'] = top_combined.values\n",
        "    return recommended_movies\n",
        "\n",
        "print(\"\\nHybrid Recommendations for User 1:\")\n",
        "print(recommend_hybrid(1, train_matrix, user_similarity_df, item_similarity_df, movies))"
      ],
      "metadata": {
        "colab": {
          "base_uri": "https://localhost:8080/"
        },
        "id": "4xvP8XgKf5Uw",
        "outputId": "dfb03c86-a0cb-436e-9848-c48a68e04f2f"
      },
      "execution_count": 15,
      "outputs": [
        {
          "output_type": "stream",
          "name": "stdout",
          "text": [
            "\n",
            "Hybrid Recommendations for User 1:\n",
            "\n",
            "Top similar users to User 1:\n",
            "User 266 (Similarity: 0.357): ['Trainspotting (1996)', \"Monty Python's Life of Brian (1979)\", 'Clockwork Orange, A (1971)']\n",
            "User 313 (Similarity: 0.352): ['Escape from New York (1981)', 'Cell, The (2000)', \"Charlie's Angels (2000)\"]\n",
            "User 368 (Similarity: 0.345): [\"Schindler's List (1993)\", 'Jaws (1975)', 'Saving Private Ryan (1998)']\n",
            "User 57 (Similarity: 0.345): ['Blade Runner (1982)', 'Godfather, The (1972)', 'Sting, The (1973)']\n",
            "User 91 (Similarity: 0.335): ['Desperado (1995)', 'Batman (1989)', 'Godfather, The (1972)']\n",
            "User 469 (Similarity: 0.331): ['Once Upon a Time in America (1984)', 'Raging Bull (1980)', 'Exorcist, The (1973)']\n",
            "User 39 (Similarity: 0.330): ['Contact (1997)', 'Hard Core Logo (1996)', 'American Beauty (1999)']\n",
            "User 288 (Similarity: 0.330): ['Star Wars: Episode IV - A New Hope (1977)', '2001: A Space Odyssey (1968)', 'Little Big Man (1970)']\n",
            "User 452 (Similarity: 0.328): ['Abyss, The (1989)', 'Rush Hour (1998)', 'Ronin (1998)']\n",
            "User 45 (Similarity: 0.328): [\"There's Something About Mary (1998)\", 'Crouching Tiger, Hidden Dragon (Wo hu cang long) (2000)', 'Bourne Supremacy, The (2004)']\n",
            "\n",
            "User 1's Top Rated Movies:\n",
            "['Toy Story (1995)', 'Grumpier Old Men (1995)', 'Heat (1995)', 'Seven (a.k.a. Se7en) (1995)', 'Usual Suspects, The (1995)']\n",
            "      movieId                                    title  score\n",
            "2348     3106             Come See the Paradise (1990)    5.0\n",
            "9173   148978          Blue Exorcist: The Movie (2012)    5.0\n",
            "9732   193565                Gintama: The Movie (2010)    5.0\n",
            "9734   193571                      Silver Spoon (2014)    5.0\n",
            "9735   193573  Love Live! The School Idol Movie (2015)    5.0\n"
          ]
        }
      ]
    },
    {
      "cell_type": "code",
      "source": [
        "def evaluate_recommendations(user_id, method, k=5, threshold=2.5):\n",
        "    # Get recommendations based on method\n",
        "    if method == 'user':\n",
        "        preds = recommend_user_based(user_id, train_matrix, user_similarity_df, movies, top_n=k)\n",
        "    elif method == 'item':\n",
        "        preds = recommend_item_based(user_id, train_matrix, item_similarity_df, movies, top_n=k)\n",
        "    else:  # hybrid\n",
        "        preds = recommend_hybrid(user_id, train_matrix, user_similarity_df, item_similarity_df, movies, top_n=k)\n",
        "\n",
        "    pred_movies = preds['movieId'].tolist()\n",
        "\n",
        "    # Actual relevant movies from test set (rating > threshold)\n",
        "    actual = test_matrix.loc[user_id]\n",
        "    actual_positive = actual[actual > threshold].index.tolist()\n",
        "    actual_positive_count = len(actual_positive)\n",
        "\n",
        "    # Precision: Correct predictions / Total predicted\n",
        "    hits = len(set(pred_movies) & set(actual_positive))\n",
        "    precision = hits / k if k > 0 else 0\n",
        "\n",
        "    # Recall: Correct predictions / Total relevant\n",
        "    recall = hits / actual_positive_count if actual_positive_count > 0 else 0\n",
        "\n",
        "    return precision, recall\n",
        "\n",
        "# Test for User 1\n",
        "for method in ['user', 'item', 'hybrid']:\n",
        "    precision, recall = evaluate_recommendations(1, method, k=5)\n",
        "    print(f\"\\n{method.capitalize()}-Based Metrics for User 1:\")\n",
        "    print(f\"Precision@5: {precision:.3f}\")\n",
        "    print(f\"Recall@5: {recall:.3f}\")"
      ],
      "metadata": {
        "colab": {
          "base_uri": "https://localhost:8080/"
        },
        "id": "qxo3ET7lgGnR",
        "outputId": "3d6c0ba9-386e-495a-e621-5004efc2760e"
      },
      "execution_count": 16,
      "outputs": [
        {
          "output_type": "stream",
          "name": "stdout",
          "text": [
            "\n",
            "Top similar users to User 1:\n",
            "User 266 (Similarity: 0.357): ['Trainspotting (1996)', \"Monty Python's Life of Brian (1979)\", 'Clockwork Orange, A (1971)']\n",
            "User 313 (Similarity: 0.352): ['Escape from New York (1981)', 'Cell, The (2000)', \"Charlie's Angels (2000)\"]\n",
            "User 368 (Similarity: 0.345): [\"Schindler's List (1993)\", 'Jaws (1975)', 'Saving Private Ryan (1998)']\n",
            "User 57 (Similarity: 0.345): ['Blade Runner (1982)', 'Godfather, The (1972)', 'Sting, The (1973)']\n",
            "User 91 (Similarity: 0.335): ['Desperado (1995)', 'Batman (1989)', 'Godfather, The (1972)']\n",
            "User 469 (Similarity: 0.331): ['Once Upon a Time in America (1984)', 'Raging Bull (1980)', 'Exorcist, The (1973)']\n",
            "User 39 (Similarity: 0.330): ['Contact (1997)', 'Hard Core Logo (1996)', 'American Beauty (1999)']\n",
            "User 288 (Similarity: 0.330): ['Star Wars: Episode IV - A New Hope (1977)', '2001: A Space Odyssey (1968)', 'Little Big Man (1970)']\n",
            "User 452 (Similarity: 0.328): ['Abyss, The (1989)', 'Rush Hour (1998)', 'Ronin (1998)']\n",
            "User 45 (Similarity: 0.328): [\"There's Something About Mary (1998)\", 'Crouching Tiger, Hidden Dragon (Wo hu cang long) (2000)', 'Bourne Supremacy, The (2004)']\n",
            "\n",
            "User-Based Metrics for User 1:\n",
            "Precision@5: 0.200\n",
            "Recall@5: 0.026\n",
            "\n",
            "User 1's Top Rated Movies:\n",
            "['Toy Story (1995)', 'Grumpier Old Men (1995)', 'Heat (1995)', 'Seven (a.k.a. Se7en) (1995)', 'Usual Suspects, The (1995)']\n",
            "\n",
            "Item-Based Metrics for User 1:\n",
            "Precision@5: 0.000\n",
            "Recall@5: 0.000\n",
            "\n",
            "Top similar users to User 1:\n",
            "User 266 (Similarity: 0.357): ['Trainspotting (1996)', \"Monty Python's Life of Brian (1979)\", 'Clockwork Orange, A (1971)']\n",
            "User 313 (Similarity: 0.352): ['Escape from New York (1981)', 'Cell, The (2000)', \"Charlie's Angels (2000)\"]\n",
            "User 368 (Similarity: 0.345): [\"Schindler's List (1993)\", 'Jaws (1975)', 'Saving Private Ryan (1998)']\n",
            "User 57 (Similarity: 0.345): ['Blade Runner (1982)', 'Godfather, The (1972)', 'Sting, The (1973)']\n",
            "User 91 (Similarity: 0.335): ['Desperado (1995)', 'Batman (1989)', 'Godfather, The (1972)']\n",
            "User 469 (Similarity: 0.331): ['Once Upon a Time in America (1984)', 'Raging Bull (1980)', 'Exorcist, The (1973)']\n",
            "User 39 (Similarity: 0.330): ['Contact (1997)', 'Hard Core Logo (1996)', 'American Beauty (1999)']\n",
            "User 288 (Similarity: 0.330): ['Star Wars: Episode IV - A New Hope (1977)', '2001: A Space Odyssey (1968)', 'Little Big Man (1970)']\n",
            "User 452 (Similarity: 0.328): ['Abyss, The (1989)', 'Rush Hour (1998)', 'Ronin (1998)']\n",
            "User 45 (Similarity: 0.328): [\"There's Something About Mary (1998)\", 'Crouching Tiger, Hidden Dragon (Wo hu cang long) (2000)', 'Bourne Supremacy, The (2004)']\n",
            "\n",
            "User 1's Top Rated Movies:\n",
            "['Toy Story (1995)', 'Grumpier Old Men (1995)', 'Heat (1995)', 'Seven (a.k.a. Se7en) (1995)', 'Usual Suspects, The (1995)']\n",
            "\n",
            "Hybrid-Based Metrics for User 1:\n",
            "Precision@5: 0.000\n",
            "Recall@5: 0.000\n"
          ]
        }
      ]
    },
    {
      "cell_type": "code",
      "source": [],
      "metadata": {
        "id": "RzVscrYogRDO"
      },
      "execution_count": null,
      "outputs": []
    }
  ]
}