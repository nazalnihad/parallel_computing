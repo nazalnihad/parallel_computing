{
  "nbformat": 4,
  "nbformat_minor": 0,
  "metadata": {
    "colab": {
      "provenance": [],
      "authorship_tag": "ABX9TyN4H/m+XWQxlRswlQGSNER2"
    },
    "kernelspec": {
      "name": "python3",
      "display_name": "Python 3"
    },
    "language_info": {
      "name": "python"
    }
  },
  "cells": [
    {
      "cell_type": "code",
      "source": [
        "import numpy as np\n",
        "from sklearn.datasets import load_iris\n",
        "from sklearn.model_selection import cross_val_score\n",
        "from sklearn.linear_model import LogisticRegression\n",
        "from sklearn.discriminant_analysis import LinearDiscriminantAnalysis as LDA\n",
        "from sklearn.decomposition import PCA, TruncatedSVD\n",
        "from sklearn.manifold import TSNE\n",
        "import warnings\n",
        "warnings.filterwarnings(\"ignore\")"
      ],
      "metadata": {
        "id": "yc2Apaxt06Ep"
      },
      "execution_count": 1,
      "outputs": []
    },
    {
      "cell_type": "code",
      "source": [
        "iris = load_iris()\n",
        "X = iris.data\n",
        "y = iris.target"
      ],
      "metadata": {
        "id": "_nDIap9o09Rw"
      },
      "execution_count": 2,
      "outputs": []
    },
    {
      "cell_type": "code",
      "source": [
        "clf = LogisticRegression(max_iter=1000)\n",
        "\n",
        "def evaluate_method(X_reduced, y, method_name, n_components):\n",
        "    scores = cross_val_score(clf, X_reduced, y, cv=5)  # 5-fold CV\n",
        "    print(f\"{method_name} ({n_components} features) - Mean CV Accuracy: {scores.mean():.3f}\")"
      ],
      "metadata": {
        "id": "awz_KpHm1BzY"
      },
      "execution_count": 3,
      "outputs": []
    },
    {
      "cell_type": "code",
      "source": [
        "#: Reduce to 2 features\n",
        "print(\"=== reduce to 2 featrues ===\")\n",
        "\n",
        "# LDA\n",
        "lda = LDA(n_components=2)\n",
        "X_lda_2 = lda.fit_transform(X, y)\n",
        "evaluate_method(X_lda_2, y, \"LDA\", 2)\n",
        "\n",
        "# PCA\n",
        "pca = PCA(n_components=2)\n",
        "X_pca_2 = pca.fit_transform(X)\n",
        "evaluate_method(X_pca_2, y, \"PCA\", 2)\n",
        "\n",
        "# t-SNE\n",
        "tsne = TSNE(n_components=2, random_state=42)\n",
        "X_tsne_2 = tsne.fit_transform(X)\n",
        "evaluate_method(X_tsne_2, y, \"t-SNE\", 2)\n",
        "\n",
        "# SVD\n",
        "svd = TruncatedSVD(n_components=2)\n",
        "X_svd_2 = svd.fit_transform(X)\n",
        "evaluate_method(X_svd_2, y, \"SVD\", 2)"
      ],
      "metadata": {
        "colab": {
          "base_uri": "https://localhost:8080/"
        },
        "id": "W1s4YQZb1G6Q",
        "outputId": "a0397ce7-6629-4d47-ee93-5c20bc0e2765"
      },
      "execution_count": 4,
      "outputs": [
        {
          "output_type": "stream",
          "name": "stdout",
          "text": [
            "=== reduce to 2 featrues ===\n",
            "LDA (2 features) - Mean CV Accuracy: 0.980\n",
            "PCA (2 features) - Mean CV Accuracy: 0.960\n",
            "t-SNE (2 features) - Mean CV Accuracy: 0.980\n",
            "SVD (2 features) - Mean CV Accuracy: 0.960\n"
          ]
        }
      ]
    },
    {
      "cell_type": "code",
      "execution_count": 5,
      "metadata": {
        "colab": {
          "base_uri": "https://localhost:8080/"
        },
        "id": "pnK4tZfc0zDV",
        "outputId": "ff139e20-c643-4ff7-b819-ae1c00c09576"
      },
      "outputs": [
        {
          "output_type": "stream",
          "name": "stdout",
          "text": [
            "\n",
            "=== 3 feat===\n",
            "PCA (3 features) - Mean CV Accuracy: 0.973\n",
            "t-SNE (3 features) - Mean CV Accuracy: 0.980\n",
            "SVD (3 features) - Mean CV Accuracy: 0.973\n"
          ]
        }
      ],
      "source": [
        "\n",
        "# Reduce to 3 features\n",
        "print(\"\\n=== 3 feat===\")\n",
        "\n",
        "# LDA not applicable\n",
        "\n",
        "# PCA\n",
        "pca = PCA(n_components=3)\n",
        "X_pca_3 = pca.fit_transform(X)\n",
        "evaluate_method(X_pca_3, y, \"PCA\", 3)\n",
        "\n",
        "# t-SNE\n",
        "tsne = TSNE(n_components=3, random_state=42)\n",
        "X_tsne_3 = tsne.fit_transform(X)\n",
        "evaluate_method(X_tsne_3, y, \"t-SNE\", 3)\n",
        "\n",
        "# SVD\n",
        "svd = TruncatedSVD(n_components=3)\n",
        "X_svd_3 = svd.fit_transform(X)\n",
        "evaluate_method(X_svd_3, y, \"SVD\", 3)"
      ]
    },
    {
      "cell_type": "code",
      "source": [],
      "metadata": {
        "id": "imkcBZWp1epB"
      },
      "execution_count": null,
      "outputs": []
    }
  ]
}